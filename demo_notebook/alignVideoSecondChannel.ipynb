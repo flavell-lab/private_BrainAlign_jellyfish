{
 "cells": [
  {
   "cell_type": "code",
   "execution_count": 1,
   "metadata": {},
   "outputs": [
    {
     "name": "stderr",
     "output_type": "stream",
     "text": [
      "2025-03-04 01:16:40.503124: E external/local_xla/xla/stream_executor/cuda/cuda_dnn.cc:9261] Unable to register cuDNN factory: Attempting to register factory for plugin cuDNN when one has already been registered\n",
      "2025-03-04 01:16:40.503168: E external/local_xla/xla/stream_executor/cuda/cuda_fft.cc:607] Unable to register cuFFT factory: Attempting to register factory for plugin cuFFT when one has already been registered\n",
      "2025-03-04 01:16:40.504479: E external/local_xla/xla/stream_executor/cuda/cuda_blas.cc:1515] Unable to register cuBLAS factory: Attempting to register factory for plugin cuBLAS when one has already been registered\n"
     ]
    }
   ],
   "source": [
    "import numpy as np\n",
    "import os, cv2\n",
    "import h5py\n",
    "import tifffile\n",
    "from tqdm import tqdm, trange\n",
    "from deepreg.predict import unwrapped_predict, normalize_batched_image\n",
    "from deepreg.model.layer import Warping\n",
    "import tensorflow as tf\n",
    "import matplotlib.pyplot as plt\n",
    "\n",
    "\n",
    "\n",
    "batch_size = 8\n",
    "label_shape = (30, 3)"
   ]
  },
  {
   "cell_type": "markdown",
   "metadata": {},
   "source": [
    "### Register a video in batches"
   ]
  },
  {
   "cell_type": "code",
   "execution_count": 2,
   "metadata": {},
   "outputs": [],
   "source": [
    "tiff_path = \"/store1/alicia/jellyfish/concat_cropped_12000-29999.tif\"\n",
    "checkpoint_path = \"/home/brian/notebooks/brian/PBrainAlign_and_Jelly/private_BrainAlignNet/demo_notebook/long_first_jelly_again/save/ckpt-626\"\n",
    "output_video_path = \"/home/brian/data4/brian/PBnJ/out_vids/no_align.mp4\"\n",
    "log_dir = \"/home/brian/data4/brian/PBnJ/out_vids/logs\"\n",
    "\n",
    "inputs = tifffile.imread(tiff_path)"
   ]
  },
  {
   "cell_type": "code",
   "execution_count": 3,
   "metadata": {},
   "outputs": [],
   "source": [
    "os.chdir(\"/home/brian/notebooks/brian/PBrainAlign_and_Jelly/private_BrainAlignNet/scripts\")\n",
    "from register import set_GPU, register\n",
    "set_GPU(1)"
   ]
  },
  {
   "cell_type": "code",
   "execution_count": 4,
   "metadata": {},
   "outputs": [],
   "source": [
    "# Green channel\n",
    "green_channel_folder = \"/home/brian/store1/brian/swiming_videos/GREEN CROPPED VIDEO FOR BRIAN\"\n",
    "green_files = sorted([f for f in os.listdir(green_channel_folder) if int(f.split('-')[0]) >= 12000], key=lambda x: int(x.split('-')[0]))\n",
    "green_offsets = [int(f.split('-')[0]) - 12000 for f in green_files]"
   ]
  },
  {
   "cell_type": "code",
   "execution_count": 5,
   "metadata": {},
   "outputs": [
    {
     "data": {
      "text/plain": [
       "['12000-13999.tif - C=0.tif',\n",
       " '14000-15999.tif - C=0.tif',\n",
       " '16000-17999.tif - C=0.tif',\n",
       " '18000-19999.tif - C=0.tif',\n",
       " '20000-21999.tif - C=0.tif',\n",
       " '22000-23999.tif - C=0.tif',\n",
       " '24000-25999.tif - C=0.tif',\n",
       " '26000-27999.tif - C=0.tif',\n",
       " '28000-29999.tif - C=0.tif']"
      ]
     },
     "execution_count": 5,
     "metadata": {},
     "output_type": "execute_result"
    }
   ],
   "source": [
    "green_files"
   ]
  },
  {
   "cell_type": "code",
   "execution_count": 35,
   "metadata": {},
   "outputs": [
    {
     "name": "stderr",
     "output_type": "stream",
     "text": [
      "  0%|          | 0/250 [00:00<?, ?it/s]"
     ]
    },
    {
     "name": "stdout",
     "output_type": "stream",
     "text": [
      "2025-03-04 15:47:43 | WARNING  | Log directory /home/brian/data4/brian/PBnJ/out_vids/logs exists already.\n",
      "2025-03-04 15:47:43 | WARNING  | Using customized configuration. The code might break if the config doesn't match the saved model.\n",
      "Built inputs.\n",
      "Built control points.\n",
      "Concatenated images.\n",
      "{'extract_levels': ListWrapper([0, 1, 2, 3]), 'name': 'local', 'num_channel_initial': 16}\n",
      "Built backbone.\n",
      "Built DDF.\n",
      "Built warping.\n"
     ]
    },
    {
     "name": "stderr",
     "output_type": "stream",
     "text": [
      "100%|██████████| 250/250 [04:41<00:00,  1.13s/it]\n",
      "100%|██████████| 250/250 [04:28<00:00,  1.08s/it]\n",
      "100%|██████████| 250/250 [04:24<00:00,  1.06s/it]\n",
      "100%|██████████| 250/250 [04:35<00:00,  1.10s/it]\n",
      "100%|██████████| 250/250 [04:22<00:00,  1.05s/it]\n",
      "100%|██████████| 250/250 [04:30<00:00,  1.08s/it]\n",
      "100%|██████████| 250/250 [04:52<00:00,  1.17s/it]\n",
      "100%|██████████| 250/250 [06:51<00:00,  1.64s/it]\n",
      "100%|██████████| 250/250 [04:26<00:00,  1.07s/it]\n"
     ]
    }
   ],
   "source": [
    "config_path = os.path.join(checkpoint_path.split(\"/save\")[0], \"config.yaml\")\n",
    "model = None\n",
    "\n",
    "max_frames = 2000\n",
    "side_len = 1080\n",
    "red_offset = 12000\n",
    "\n",
    "padding = np.array([[0,0],[0,0],[0,0],[1,0]])\n",
    "\n",
    "batched_fixed_image = np.repeat(np.expand_dims(inputs[0], axis=0), batch_size, axis=0).astype(np.float32)\n",
    "batched_fixed_image = np.pad(batched_fixed_image[..., np.newaxis], padding, \"constant\", constant_values=0)\n",
    "\n",
    "warping = Warping(fixed_image_size=(side_len, side_len, 2), batch_size=batch_size)\n",
    "\n",
    "for file in green_files:\n",
    "    green_in = tifffile.imread(os.path.join(green_channel_folder, file))\n",
    "    outs = np.zeros_like(green_in)\n",
    "    offset = int(file.split('-')[0])\n",
    "    for frame in trange(offset, max_frames + offset, batch_size):\n",
    "        if frame + batch_size > (max_frames + offset):\n",
    "            frame = (max_frames + offset) - batch_size\n",
    "\n",
    "        batched_moving_image = inputs[(frame - red_offset):(frame-red_offset)+batch_size].astype(np.float32)\n",
    "        batched_moving_image = np.pad(batched_moving_image[..., np.newaxis], padding, \"constant\", constant_values=0)\n",
    "\n",
    "        \n",
    "        ddf_output, pred_fixed_image, model = unwrapped_predict(\n",
    "            batched_fixed_image,\n",
    "            batched_moving_image,\n",
    "            log_dir,\n",
    "            label_shape,\n",
    "            label_shape,\n",
    "            model = model,\n",
    "            model_ckpt_path = checkpoint_path,\n",
    "            model_config_path = config_path,\n",
    "        )\n",
    "\n",
    "        gr_in = np.pad(green_in[(frame - offset):(frame - offset)+batch_size, ..., np.newaxis], padding, \"constant\", constant_values=0).astype(np.float32)\n",
    "        outs[frame - offset:(frame - offset) + batch_size] = warping(inputs=[ddf_output, gr_in]).numpy()[..., 1]\n",
    "\n",
    "    tifffile.imwrite(os.path.join(green_channel_folder, \"WARPED_\" + file), outs)\n"
   ]
  }
 ],
 "metadata": {
  "kernelspec": {
   "display_name": "PB",
   "language": "python",
   "name": "python3"
  },
  "language_info": {
   "codemirror_mode": {
    "name": "ipython",
    "version": 3
   },
   "file_extension": ".py",
   "mimetype": "text/x-python",
   "name": "python",
   "nbconvert_exporter": "python",
   "pygments_lexer": "ipython3",
   "version": "3.11.9"
  }
 },
 "nbformat": 4,
 "nbformat_minor": 2
}
