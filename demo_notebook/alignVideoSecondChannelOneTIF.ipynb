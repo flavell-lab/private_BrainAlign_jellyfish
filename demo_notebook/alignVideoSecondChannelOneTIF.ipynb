{
 "cells": [
  {
   "cell_type": "code",
   "execution_count": 1,
   "metadata": {},
   "outputs": [
    {
     "name": "stderr",
     "output_type": "stream",
     "text": [
      "2025-04-23 13:23:11.353481: E external/local_xla/xla/stream_executor/cuda/cuda_dnn.cc:9261] Unable to register cuDNN factory: Attempting to register factory for plugin cuDNN when one has already been registered\n",
      "2025-04-23 13:23:11.353523: E external/local_xla/xla/stream_executor/cuda/cuda_fft.cc:607] Unable to register cuFFT factory: Attempting to register factory for plugin cuFFT when one has already been registered\n",
      "2025-04-23 13:23:11.354851: E external/local_xla/xla/stream_executor/cuda/cuda_blas.cc:1515] Unable to register cuBLAS factory: Attempting to register factory for plugin cuBLAS when one has already been registered\n"
     ]
    }
   ],
   "source": [
    "import numpy as np\n",
    "import os, cv2\n",
    "import h5py\n",
    "import tifffile\n",
    "from tqdm import tqdm, trange\n",
    "os.environ[\"CUDA_VISIBLE_DEVICES\"] = \"1\"\n",
    "from deepreg.predict import unwrapped_predict, normalize_batched_image\n",
    "from deepreg.model.layer import Warping\n",
    "import tensorflow as tf\n",
    "import matplotlib.pyplot as plt\n",
    "\n",
    "\n",
    "batch_size = 8\n",
    "label_shape = (30, 3)\n",
    "irregular = True"
   ]
  },
  {
   "cell_type": "markdown",
   "metadata": {},
   "source": [
    "### Register a video in batches"
   ]
  },
  {
   "cell_type": "code",
   "execution_count": null,
   "metadata": {},
   "outputs": [],
   "source": [
    "tiff_folder = \"/home/brian/store1/brian/swiming_videos/Folder_20240930105926_good/\"\n",
    "out_folder = tiff_folder\n",
    "\n",
    "checkpoint_path = \"/home/brian/notebooks/brian/PBrainAlign_and_Jelly/private_BrainAlignNet/demo_notebook/long_first_jelly_again/save/ckpt-626\"\n",
    "\n",
    "max_frames = 2000\n",
    "red_chan = 1\n",
    "\n",
    "side_len = 1024\n",
    "padding = np.array([[0,0],[0,0],[0,0],[1,1]])\n",
    "z_depth = 3\n",
    "\n",
    "log_dir = \"/home/brian/data4/brian/PBnJ/out_vids/logs\"\n",
    "\n",
    "files = os.listdir(tiff_folder)\n",
    "files = [f for f in files if (f.endswith(\".tif\") or f.endswith(\".tiff\")) and f.startswith(\"RIG_\")]\n",
    "files = sorted(files, key = lambda x: int(x.split(\"_\")[-1].split(\"-\")[0]))\n",
    "print(files)"
   ]
  },
  {
   "cell_type": "code",
   "execution_count": null,
   "metadata": {},
   "outputs": [],
   "source": [
    "inputs = tifffile.imread(os.path.join(tiff_folder, files[0]))"
   ]
  },
  {
   "cell_type": "code",
   "execution_count": 4,
   "metadata": {},
   "outputs": [
    {
     "data": {
      "text/plain": [
       "(2000, 2, 1200, 1200)"
      ]
     },
     "execution_count": 4,
     "metadata": {},
     "output_type": "execute_result"
    }
   ],
   "source": [
    "inputs.shape"
   ]
  },
  {
   "cell_type": "code",
   "execution_count": 5,
   "metadata": {},
   "outputs": [],
   "source": [
    "if(len(inputs.shape) == 3):\n",
    "    irregular = False\n",
    "    inputs = inputs[:, np.newaxis, ...]"
   ]
  },
  {
   "cell_type": "code",
   "execution_count": null,
   "metadata": {},
   "outputs": [],
   "source": [
    "crop_shape = np.array((side_len, side_len))\n",
    "\n",
    "crop_offset = (inputs.shape[2:] - crop_shape) / 2\n",
    "assert np.all(crop_offset == crop_offset.astype(int))\n",
    "crop_offset = crop_offset.astype(int)\n",
    "\n",
    "## Crop the images\n",
    "inputs_crop = inputs[:, :, crop_offset[0]:crop_offset[0] + crop_shape[0], crop_offset[1]:crop_offset[1] + crop_shape[1]]\n",
    "assert np.all(inputs_crop.shape[2:] == crop_shape)"
   ]
  },
  {
   "cell_type": "code",
   "execution_count": null,
   "metadata": {},
   "outputs": [],
   "source": [
    "if irregular:\n",
    "    input_red = inputs_crop[:, 1, ...]\n",
    "else:\n",
    "    input_red = inputs_crop[:, 0, ...]\n",
    "\n",
    "batched_fixed_image = np.repeat(np.expand_dims(input_red[0], axis=0), batch_size, axis=0).astype(np.float32)"
   ]
  },
  {
   "cell_type": "code",
   "execution_count": 9,
   "metadata": {},
   "outputs": [],
   "source": [
    "os.chdir(\"/home/brian/notebooks/brian/PBrainAlign_and_Jelly/private_BrainAlignNet/scripts\")\n",
    "from register import set_GPU, register\n",
    "# set_GPU(1)"
   ]
  },
  {
   "cell_type": "code",
   "execution_count": null,
   "metadata": {},
   "outputs": [
    {
     "name": "stderr",
     "output_type": "stream",
     "text": [
      "  0%|          | 0/250 [00:00<?, ?it/s]"
     ]
    },
    {
     "name": "stdout",
     "output_type": "stream",
     "text": [
      "2025-04-23 13:32:11 | WARNING  | Log directory /home/brian/data4/brian/PBnJ/out_vids/logs exists already.\n",
      "2025-04-23 13:32:11 | WARNING  | Using customized configuration. The code might break if the config doesn't match the saved model.\n",
      "Built inputs.\n",
      "Built control points.\n",
      "Concatenated images.\n",
      "{'extract_levels': ListWrapper([0, 1, 2, 3]), 'name': 'local', 'num_channel_initial': 16}\n",
      "Built backbone.\n",
      "Built DDF.\n",
      "Built warping.\n"
     ]
    },
    {
     "name": "stderr",
     "output_type": "stream",
     "text": [
      "100%|██████████| 250/250 [15:56<00:00,  3.83s/it] \n",
      "/home/brian/.conda/envs/PB/lib/python3.11/site-packages/tifffile/tifffile.py:1753: UserWarning: <tifffile.TiffWriter 'WARPED-BOTH_RIG_…0930_0-1999.tif'> writing nonconformant BigTIFF ImageJ\n",
      "  warnings.warn(\n",
      "100%|██████████| 250/250 [05:32<00:00,  1.33s/it]\n",
      "/home/brian/.conda/envs/PB/lib/python3.11/site-packages/tifffile/tifffile.py:1753: UserWarning: <tifffile.TiffWriter 'WARPED-BOTH_RIG…30_2000-3999.tif'> writing nonconformant BigTIFF ImageJ\n",
      "  warnings.warn(\n",
      "100%|██████████| 250/250 [06:10<00:00,  1.48s/it]\n",
      "/home/brian/.conda/envs/PB/lib/python3.11/site-packages/tifffile/tifffile.py:1753: UserWarning: <tifffile.TiffWriter 'WARPED-BOTH_RIG…30_4000-5999.tif'> writing nonconformant BigTIFF ImageJ\n",
      "  warnings.warn(\n",
      "100%|██████████| 250/250 [05:20<00:00,  1.28s/it]\n",
      "/home/brian/.conda/envs/PB/lib/python3.11/site-packages/tifffile/tifffile.py:1753: UserWarning: <tifffile.TiffWriter 'WARPED-BOTH_RIG…30_6000-7999.tif'> writing nonconformant BigTIFF ImageJ\n",
      "  warnings.warn(\n",
      "100%|██████████| 250/250 [05:28<00:00,  1.31s/it]\n",
      "/home/brian/.conda/envs/PB/lib/python3.11/site-packages/tifffile/tifffile.py:1753: UserWarning: <tifffile.TiffWriter 'WARPED-BOTH_RIG…30_8000-9999.tif'> writing nonconformant BigTIFF ImageJ\n",
      "  warnings.warn(\n",
      "100%|██████████| 250/250 [05:37<00:00,  1.35s/it]\n",
      "/home/brian/.conda/envs/PB/lib/python3.11/site-packages/tifffile/tifffile.py:1753: UserWarning: <tifffile.TiffWriter 'WARPED-BOTH_RIG…_10000-11999.tif'> writing nonconformant BigTIFF ImageJ\n",
      "  warnings.warn(\n",
      "100%|██████████| 250/250 [06:54<00:00,  1.66s/it]\n",
      "/home/brian/.conda/envs/PB/lib/python3.11/site-packages/tifffile/tifffile.py:1753: UserWarning: <tifffile.TiffWriter 'WARPED-BOTH_RIG…_12000-13999.tif'> writing nonconformant BigTIFF ImageJ\n",
      "  warnings.warn(\n",
      "100%|██████████| 250/250 [05:17<00:00,  1.27s/it]\n",
      "/home/brian/.conda/envs/PB/lib/python3.11/site-packages/tifffile/tifffile.py:1753: UserWarning: <tifffile.TiffWriter 'WARPED-BOTH_RIG…_14000-15999.tif'> writing nonconformant BigTIFF ImageJ\n",
      "  warnings.warn(\n",
      "100%|██████████| 250/250 [06:06<00:00,  1.47s/it]\n",
      "/home/brian/.conda/envs/PB/lib/python3.11/site-packages/tifffile/tifffile.py:1753: UserWarning: <tifffile.TiffWriter 'WARPED-BOTH_RIG…_16000-17999.tif'> writing nonconformant BigTIFF ImageJ\n",
      "  warnings.warn(\n",
      "100%|██████████| 250/250 [05:22<00:00,  1.29s/it]\n",
      "/home/brian/.conda/envs/PB/lib/python3.11/site-packages/tifffile/tifffile.py:1753: UserWarning: <tifffile.TiffWriter 'WARPED-BOTH_RIG…_18000-19999.tif'> writing nonconformant BigTIFF ImageJ\n",
      "  warnings.warn(\n",
      "100%|██████████| 250/250 [05:27<00:00,  1.31s/it]\n",
      "/home/brian/.conda/envs/PB/lib/python3.11/site-packages/tifffile/tifffile.py:1753: UserWarning: <tifffile.TiffWriter 'WARPED-BOTH_RIG…_20000-21999.tif'> writing nonconformant BigTIFF ImageJ\n",
      "  warnings.warn(\n",
      "100%|██████████| 250/250 [05:29<00:00,  1.32s/it]\n",
      "/home/brian/.conda/envs/PB/lib/python3.11/site-packages/tifffile/tifffile.py:1753: UserWarning: <tifffile.TiffWriter 'WARPED-BOTH_RIG…_22000-23999.tif'> writing nonconformant BigTIFF ImageJ\n",
      "  warnings.warn(\n",
      "100%|██████████| 250/250 [05:17<00:00,  1.27s/it]\n",
      "/home/brian/.conda/envs/PB/lib/python3.11/site-packages/tifffile/tifffile.py:1753: UserWarning: <tifffile.TiffWriter 'WARPED-BOTH_RIG…_24000-25999.tif'> writing nonconformant BigTIFF ImageJ\n",
      "  warnings.warn(\n",
      "100%|██████████| 250/250 [05:16<00:00,  1.27s/it]\n",
      "/home/brian/.conda/envs/PB/lib/python3.11/site-packages/tifffile/tifffile.py:1753: UserWarning: <tifffile.TiffWriter 'WARPED-BOTH_RIG…_26000-27999.tif'> writing nonconformant BigTIFF ImageJ\n",
      "  warnings.warn(\n",
      "100%|██████████| 250/250 [05:32<00:00,  1.33s/it]\n",
      "/home/brian/.conda/envs/PB/lib/python3.11/site-packages/tifffile/tifffile.py:1753: UserWarning: <tifffile.TiffWriter 'WARPED-BOTH_RIG…_28000-29999.tif'> writing nonconformant BigTIFF ImageJ\n",
      "  warnings.warn(\n"
     ]
    }
   ],
   "source": [
    "config_path = os.path.join(checkpoint_path.split(\"/save\")[0], \"config.yaml\")\n",
    "model = None\n",
    "\n",
    "red_offset = 0\n",
    "\n",
    "other_chan = (red_chan - 1) % inputs.shape[1]\n",
    "\n",
    "batched_fixed_image_pad = np.pad(batched_fixed_image[..., np.newaxis], padding, \"constant\", constant_values=np.min(batched_fixed_image))\n",
    "\n",
    "warping = Warping(fixed_image_size=(side_len, side_len, z_depth), batch_size=batch_size)\n",
    "\n",
    "for file in files:\n",
    "    inputs = tifffile.imread(os.path.join(tiff_folder, file))\n",
    "    inputs_crop = inputs[:, :, crop_offset[0]:crop_offset[0] + crop_shape[0], crop_offset[1]:crop_offset[1] + crop_shape[1]]\n",
    "    input_red = inputs_crop[:, red_chan, ...]\n",
    "    input_green = inputs_crop[:, other_chan, ...]\n",
    "    outs = np.zeros_like(inputs_crop)\n",
    "    for frame in trange(0, max_frames, batch_size):\n",
    "        if frame + batch_size > (max_frames):\n",
    "            frame = (max_frames) - batch_size\n",
    "\n",
    "        batched_moving_image = input_red[(frame - red_offset):(frame-red_offset)+batch_size].astype(np.float32)\n",
    "        # batched_moving_image = np.log2((batched_moving_image - np.min(batched_moving_image)) + 1, dtype=np.float32)\n",
    "        # batched_moving_image = np.pad(batched_moving_image[..., np.newaxis], padding, \"constant\", constant_values=0)\n",
    "        batched_moving_image = np.pad(batched_moving_image[..., np.newaxis], padding, \"constant\", constant_values=np.min(batched_moving_image))\n",
    "        # batched_moving_image = np.repeat(batched_moving_image[..., np.newaxis], z_depth, axis=-1)\n",
    "        \n",
    "        ddf_output, pred_fixed_image, model = unwrapped_predict(\n",
    "            batched_fixed_image_pad,\n",
    "            batched_moving_image,\n",
    "            log_dir,\n",
    "            label_shape,\n",
    "            label_shape,\n",
    "            model = model,\n",
    "            model_ckpt_path = checkpoint_path,\n",
    "            model_config_path = config_path,\n",
    "        )\n",
    "\n",
    "        gr_in = np.pad(input_green[(frame):(frame)+batch_size, ..., np.newaxis], padding, \"constant\", constant_values=0).astype(np.float32)\n",
    "        outs[frame:(frame) + batch_size, other_chan] = warping(inputs=[ddf_output, gr_in]).numpy()[..., 1]\n",
    "        \n",
    "        batched_moving_image = input_red[(frame - red_offset):(frame-red_offset)+batch_size].astype(np.float32)\n",
    "        batched_moving_image = np.pad(batched_moving_image[..., np.newaxis], padding, \"constant\", constant_values=0)\n",
    "        outs[frame:(frame) + batch_size, red_chan] = warping(inputs=[ddf_output, batched_moving_image]).numpy()[..., 1]\n",
    "        \n",
    "        # outs[frame:(frame) + batch_size] = pred_fixed_image[..., 1] * 100\n",
    "    # tifffile.imwrite(os.path.join(out_folder, \"RED_WARPED_\" + file), outs)\n",
    "\n",
    "    tifffile.imwrite(os.path.join(out_folder, \"WARPED-BOTH_\" + file), outs, imagej=True, bigtiff=True)\n",
    "    # break\n"
   ]
  },
  {
   "cell_type": "code",
   "execution_count": null,
   "metadata": {},
   "outputs": [],
   "source": []
  }
 ],
 "metadata": {
  "kernelspec": {
   "display_name": "PB",
   "language": "python",
   "name": "python3"
  },
  "language_info": {
   "codemirror_mode": {
    "name": "ipython",
    "version": 3
   },
   "file_extension": ".py",
   "mimetype": "text/x-python",
   "name": "python",
   "nbconvert_exporter": "python",
   "pygments_lexer": "ipython3",
   "version": "3.11.9"
  }
 },
 "nbformat": 4,
 "nbformat_minor": 2
}
