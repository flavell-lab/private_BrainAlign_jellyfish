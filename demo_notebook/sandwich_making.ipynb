{
 "cells": [
  {
   "cell_type": "code",
   "execution_count": 1,
   "metadata": {},
   "outputs": [],
   "source": [
    "import os\n",
    "import h5py\n",
    "import numpy as np\n",
    "\n",
    "os.chdir(\"../scripts/data_preparation\")  "
   ]
  },
  {
   "cell_type": "markdown",
   "metadata": {},
   "source": [
    "# Clone fixed image to train\n",
    "Start with images (formatted as just 1 fixed image from Weissbourd)"
   ]
  },
  {
   "cell_type": "code",
   "execution_count": null,
   "metadata": {},
   "outputs": [
    {
     "ename": "AssertionError",
     "evalue": "This is isn't the right program, bud",
     "output_type": "error",
     "traceback": [
      "\u001b[0;31m---------------------------------------------------------------------------\u001b[0m",
      "\u001b[0;31mAssertionError\u001b[0m                            Traceback (most recent call last)",
      "Cell \u001b[0;32mIn[2], line 6\u001b[0m\n\u001b[1;32m      4\u001b[0m moving_h5 \u001b[38;5;241m=\u001b[39m \u001b[38;5;124m\"\u001b[39m\u001b[38;5;124m/home/brian/data4/brian/PBnJ/jelly_processed_data/h5/moving_images.h5\u001b[39m\u001b[38;5;124m\"\u001b[39m\n\u001b[1;32m      5\u001b[0m \u001b[38;5;28;01mwith\u001b[39;00m h5py\u001b[38;5;241m.\u001b[39mFile(old_fixed_h5, \u001b[38;5;124m'\u001b[39m\u001b[38;5;124mr\u001b[39m\u001b[38;5;124m'\u001b[39m) \u001b[38;5;28;01mas\u001b[39;00m f:\n\u001b[0;32m----> 6\u001b[0m     \u001b[38;5;28;01massert\u001b[39;00m \u001b[38;5;28mlen\u001b[39m(f\u001b[38;5;241m.\u001b[39mkeys()) \u001b[38;5;241m==\u001b[39m \u001b[38;5;241m1\u001b[39m, \u001b[38;5;124m\"\u001b[39m\u001b[38;5;124mThis is isn\u001b[39m\u001b[38;5;124m'\u001b[39m\u001b[38;5;124mt the right program, bud\u001b[39m\u001b[38;5;124m\"\u001b[39m\n\u001b[1;32m      7\u001b[0m     img \u001b[38;5;241m=\u001b[39m f[\u001b[38;5;28mlist\u001b[39m(f\u001b[38;5;241m.\u001b[39mkeys())[\u001b[38;5;241m0\u001b[39m]][:]\n\u001b[1;32m      8\u001b[0m \u001b[38;5;28;01mwith\u001b[39;00m h5py\u001b[38;5;241m.\u001b[39mFile(new_fixed_h5, \u001b[38;5;124m'\u001b[39m\u001b[38;5;124mw-\u001b[39m\u001b[38;5;124m'\u001b[39m) \u001b[38;5;28;01mas\u001b[39;00m f:\n",
      "\u001b[0;31mAssertionError\u001b[0m: This is isn't the right program, bud"
     ]
    }
   ],
   "source": [
    "old_fixed_h5 = \"/home/brian/data4/brian/PBnJ/jelly_processed_data/h5/fixed_images.h5\"\n",
    "new_fixed_h5 = \"/home/brian/data4/brian/PBnJ/jelly_processed_data/h5/fixed_fixed_images.h5\"\n",
    "moving_h5 = \"/home/brian/data4/brian/PBnJ/jelly_processed_data/h5/moving_images.h5\"\n",
    "with h5py.File(old_fixed_h5, 'r') as f:\n",
    "    assert len(f.keys()) == 1, \"This is isn't the right program, bud\"\n",
    "    img = f[list(f.keys())[0]][:]\n",
    "with h5py.File(new_fixed_h5, 'w-') as f:\n",
    "    with h5py.File(moving_h5, 'r') as g:\n",
    "        for prob in g.keys():\n",
    "            f.create_dataset(prob, data = img)"
   ]
  },
  {
   "cell_type": "markdown",
   "metadata": {},
   "source": [
    "Then do the same for labels"
   ]
  },
  {
   "cell_type": "code",
   "execution_count": 14,
   "metadata": {},
   "outputs": [
    {
     "ename": "",
     "evalue": "",
     "output_type": "error",
     "traceback": [
      "\u001b[1;31mThe Kernel crashed while executing code in the current cell or a previous cell. \n",
      "\u001b[1;31mPlease review the code in the cell(s) to identify a possible cause of the failure. \n",
      "\u001b[1;31mClick <a href='https://aka.ms/vscodeJupyterKernelCrash'>here</a> for more info. \n",
      "\u001b[1;31mView Jupyter <a href='command:jupyter.viewOutput'>log</a> for further details."
     ]
    }
   ],
   "source": [
    "old_fixed_h5 = \"/home/brian/data4/brian/PBnJ/jelly_processed_data/h5/fixed_labels.h5\"\n",
    "new_fixed_h5 = \"/home/brian/data4/brian/PBnJ/jelly_processed_data/h5/fixed_fixed_labels.h5\"\n",
    "moving_h5 = \"/home/brian/data4/brian/PBnJ/jelly_processed_data/h5/moving_labels.h5\"\n",
    "with h5py.File(old_fixed_h5, 'r') as f:\n",
    "    assert len(f.keys()) == 1, \"This is isn't the right program, bud\"\n",
    "    labs = f[list(f.keys())[0]][:]\n",
    "with h5py.File(new_fixed_h5, 'w-') as f:\n",
    "    with h5py.File(moving_h5, 'r') as g:\n",
    "        for prob in g.keys():\n",
    "            f.create_dataset(prob, data = labs)"
   ]
  },
  {
   "cell_type": "markdown",
   "metadata": {},
   "source": [
    "Now add a third column so the labels have three dimensions"
   ]
  },
  {
   "cell_type": "code",
   "execution_count": null,
   "metadata": {},
   "outputs": [],
   "source": [
    "old_fixed_h5 = \"/home/brian/data4/brian/PBnJ/jelly_processed_data/h5/fixed_labels.h5\"\n",
    "new_fixed_h5 = \"/home/brian/data4/brian/PBnJ/jelly_processed_data/h5/fixed_fixed_labels.h5\"\n",
    "with h5py.File(old_fixed_h5, 'r') as f:\n",
    "    assert f[list(f.keys())[0]][:].shape[1] == 2, \"This is meant to expand the labels from 2D to 3D\"\n",
    "    with h5py.File(new_fixed_h5, 'w') as g:\n",
    "        for prob in f.keys():\n",
    "            labs = f[prob][:]\n",
    "            labs = np.concatenate((labs, np.ones((labs.shape[0], 1))), 1)\n",
    "            g.create_dataset(prob, data = labs)"
   ]
  },
  {
   "cell_type": "markdown",
   "metadata": {},
   "source": [
    "And add a third dim for the images"
   ]
  },
  {
   "cell_type": "code",
   "execution_count": null,
   "metadata": {},
   "outputs": [],
   "source": [
    "old_fixed_h5 = \"/home/brian/data4/brian/PBnJ/jelly_processed_data/h5/fixed_images.h5\"\n",
    "new_fixed_h5 = \"/home/brian/data4/brian/PBnJ/jelly_processed_data/h5/fixed_fixed_images.h5\"\n",
    "with h5py.File(old_fixed_h5, 'r') as f:\n",
    "    assert len(f[list(f.keys())[0]][:].shape) == 2, \"This is meant to expand the images from 2D to 3D\"\n",
    "    with h5py.File(new_fixed_h5, 'w') as g:\n",
    "        for prob in f.keys():\n",
    "            img = f[prob][:]\n",
    "            img = np.expand_dims(img, 2)\n",
    "            g.create_dataset(prob, data = img)"
   ]
  },
  {
   "cell_type": "markdown",
   "metadata": {},
   "source": [
    "# Take unlabeled frames and add to a labeled h5"
   ]
  },
  {
   "cell_type": "code",
   "execution_count": 48,
   "metadata": {},
   "outputs": [],
   "source": [
    "import random, cv2, os\n",
    "\n",
    "old_img_fixed_h5 = \"/home/brian/data4/brian/PBnJ/jelly_processed_data/h5/fixed_images.h5\"\n",
    "new_img_fixed_h5 = \"/home/brian/data4/brian/PBnJ/jelly_processed_data/mixed_lab_h5/fixed_images.h5\"\n",
    "\n",
    "old_label_fixed_h5 = \"/home/brian/data4/brian/PBnJ/jelly_processed_data/h5/fixed_labels.h5\"\n",
    "new_label_fixed_h5 = \"/home/brian/data4/brian/PBnJ/jelly_processed_data/mixed_lab_h5/fixed_labels.h5\"\n",
    "\n",
    "old_img_moving_h5 = \"/home/brian/data4/brian/PBnJ/jelly_processed_data/h5/moving_images.h5\"\n",
    "new_img_moving_h5 = \"/home/brian/data4/brian/PBnJ/jelly_processed_data/mixed_lab_h5/moving_images.h5\"\n",
    "\n",
    "old_label_moving_h5 = \"/home/brian/data4/brian/PBnJ/jelly_processed_data/h5/moving_labels.h5\"\n",
    "new_label_moving_h5 = \"/home/brian/data4/brian/PBnJ/jelly_processed_data/mixed_lab_h5/moving_labels.h5\"\n",
    "\n",
    "frame_folder = \"/home/brian/data4/brian/PBnJ/jelly_centroid_prep/zoomed_in_vid\"\n",
    "\n",
    "num_frames_to_add = 500\n",
    "\n",
    "frame_names = [\n",
    "    os.path.splitext(p)[0] for p in os.listdir(frame_folder)\n",
    "    if os.path.splitext(p)[-1] in [\".jpg\"]\n",
    "]\n",
    "\n",
    "probs = []\n",
    "\n",
    "for i in range(num_frames_to_add):\n",
    "    probs.append(tuple(random.sample(frame_names, 2)))\n",
    "\n",
    "# old_mean = 0\n",
    "old_max = 0\n",
    "# num = 0\n",
    "\n",
    "with h5py.File(new_img_fixed_h5, 'w-') as nif:\n",
    "    with h5py.File(new_label_fixed_h5, 'w-') as nlf:\n",
    "        with h5py.File(old_img_fixed_h5, 'r') as oif:\n",
    "            with h5py.File(old_label_fixed_h5, 'r') as olf:\n",
    "                for prob in oif.keys():\n",
    "                    img = oif[prob][:]\n",
    "                    labs = olf[prob][:]\n",
    "\n",
    "                    # old_mean += np.mean(img)\n",
    "                    old_max = max(old_max, np.max(img))\n",
    "                    # num += 1\n",
    "\n",
    "                    nif.create_dataset(prob, data = img, dtype=float)\n",
    "                    nlf.create_dataset(prob, data = labs, dtype=np.float32)\n",
    "        \n",
    "        # old_mean = old_mean / num\n",
    "        scale_factor = old_max / 255 # Photo max val\n",
    "        \n",
    "        unlabeled_labs = np.ones_like(labs, dtype=np.float32) * -1\n",
    "        for fixed, moving in probs:\n",
    "            prob = f\"{moving}to{fixed}\"\n",
    "            img = cv2.imread(os.path.join(frame_folder, fixed + \".jpg\"))[:,:,0:1]\n",
    "            nif.create_dataset(prob, data = img * scale_factor, dtype=float)\n",
    "            nlf.create_dataset(prob, data = unlabeled_labs, dtype=np.float32)\n",
    "\n",
    "\n",
    "\n",
    "\n",
    "\n",
    "with h5py.File(new_img_moving_h5, 'w-') as nim:\n",
    "    with h5py.File(new_label_moving_h5, 'w-') as nlm:\n",
    "        with h5py.File(old_img_moving_h5, 'r') as oim:\n",
    "            with h5py.File(old_label_moving_h5, 'r') as olm:\n",
    "                for prob in oim.keys():\n",
    "                    img = oim[prob][:]\n",
    "                    labs = olm[prob][:]\n",
    "                    nim.create_dataset(prob, data = img, dtype=float)\n",
    "                    nlm.create_dataset(prob, data = labs, dtype=np.float32)\n",
    "\n",
    "        for fixed, moving in probs:\n",
    "            prob = f\"{moving}to{fixed}\"\n",
    "            img = cv2.imread(os.path.join(frame_folder, moving + \".jpg\"))[:,:,0:1]\n",
    "            nim.create_dataset(prob, data = img * scale_factor, dtype=float)\n",
    "            nlm.create_dataset(prob, data = unlabeled_labs, dtype=np.float32)"
   ]
  },
  {
   "cell_type": "code",
   "execution_count": 34,
   "metadata": {},
   "outputs": [
    {
     "name": "stdout",
     "output_type": "stream",
     "text": [
      "['10078to15011', '10411to15011', '10412to15011', '10419to15011', '10423to15011', '10456to15011', '10459to15011', '10523to15011', '12004to12042', '12009to12437', '12016to12202', '12037to12851', '12064to12300', '12064to12585', '12080to12150', '12091to12445', '12099to12331', '12120to12429', '12120to12814', '12133to12738', '12138to12772', '12161to12554', '12170to12029', '12175to12851', '12176to12764', '12180to12168', '12180to12442', '12187to12994', '12199to12789', '12206to12426', '12211to12791', '12233to15011', '12241to12251', '12253to12159', '12263to12836', '12270to12052', '12270to12802', '12284to12133', '12285to12967', '12287to12028', '12302to12067', '12316to12411', '12345to12110', '12359to12260', '12368to12511', '12384to12698', '12391to12580', '12406to12933', '12414to12607', '12416to12588', '12426to12777', '12462to12604', '12477to12741', '12484to12806', '12489to12378', '12493to12970', '12509to12762', '12515to12499', '12526to12782', '12538to12730', '12544to12981', '12547to12958', '12552to12881', '12559to12922', '12561to12423', '12569to12920', '12580to12842', '12595to12875', '12602to12107', '12604to12608', '12605to12337', '12608to12137', '12610to12815', '12645to12957', '12647to12601', '12651to12650', '12654to12709', '12659to12356', '12663to12655', '12684to12288', '12689to12615', '12690to12507', '12700to12181', '12700to12597', '12729to12427', '12733to12679', '12737to12760', '12739to12716', '12767to12556', '12777to12586', '12781to12750', '12785to12508', '12793to12948', '12814to12342', '12831to12729', '12841to12906', '12842to12717', '12856to12510', '12888to12688', '12890to12344', '12891to12448', '12895to12570', '12896to12213', '12899to12174', '12903to12210', '12912to12181', '12937to12520', '12988to12243', '12991to12777', '13626to15011', '13627to15011', '13671to15011', '13847to15011', '14344to15011', '14745to15011', '15004to15011', '15058to15011', '15063to15011', '15088to15011', '15089to15011', '15110to15011', '15307to15011', '15660to15011', '15838to15011', '16304to15011', '16332to15011', '17314to15011', '17686to15011', '17948to15011', '17952to15011', '17955to15011', '17995to15011', '18339to15011', '19483to15011', '19530to15011', '19536to15011', '1to15011', '20958to15011', '2122to15011', '22301to15011', '22359to15011', '23057to15011', '24070to15011', '24232to15011', '3563to15011', '5004to15011', '6739to15011', '8110to15011', '985to15011']\n"
     ]
    }
   ],
   "source": [
    "with h5py.File(new_label_moving_h5, 'r') as f:\n",
    "    print(list(f.keys()))"
   ]
  },
  {
   "cell_type": "markdown",
   "metadata": {},
   "source": [
    "# Split into training and val"
   ]
  },
  {
   "cell_type": "code",
   "execution_count": 12,
   "metadata": {},
   "outputs": [],
   "source": [
    "val_probs = [\n",
    "            \"3563to15011\",\n",
    "            \"5004to15011\",\n",
    "            \"6739to15011\",\n",
    "            \"8110to15011\",\n",
    "            \"985to15011\"\n",
    "        ]\n",
    "\n",
    "\n",
    "import random, cv2, os\n",
    "\n",
    "base_dir = \"/home/brian/data4/brian/PBnJ/jelly_processed_data/mixed_lab_padded\"\n",
    "\n",
    "os.mkdir(os.path.join(base_dir, \"train\"))\n",
    "os.mkdir(os.path.join(base_dir, \"val\"))\n",
    "\n",
    "old_img_fixed_h5 = f\"{base_dir}/fixed_images.h5\"\n",
    "train_img_fixed_h5 = f\"{base_dir}/train/fixed_images.h5\"\n",
    "val_img_fixed_h5 = f\"{base_dir}/val/fixed_images.h5\"\n",
    "\n",
    "old_label_fixed_h5 = f\"{base_dir}/fixed_labels.h5\"\n",
    "train_label_fixed_h5 = f\"{base_dir}/train/fixed_labels.h5\"\n",
    "val_label_fixed_h5 = f\"{base_dir}/val/fixed_labels.h5\"\n",
    "\n",
    "old_img_moving_h5 = f\"{base_dir}/moving_images.h5\"\n",
    "train_img_moving_h5 = f\"{base_dir}/train/moving_images.h5\"\n",
    "val_img_moving_h5 = f\"{base_dir}/val/moving_images.h5\"\n",
    "\n",
    "old_label_moving_h5 = f\"{base_dir}/moving_labels.h5\"\n",
    "train_label_moving_h5 = f\"{base_dir}/train/moving_labels.h5\"\n",
    "val_label_moving_h5 = f\"{base_dir}/val/moving_labels.h5\"\n",
    "\n",
    "\n",
    "with h5py.File(train_img_fixed_h5, 'w-') as tif,  h5py.File(val_img_fixed_h5, 'w-') as vif:\n",
    "    with h5py.File(train_label_fixed_h5, 'w-') as tlf,  h5py.File(val_label_fixed_h5, 'w-') as vlf:\n",
    "        with h5py.File(old_img_fixed_h5, 'r') as oif:\n",
    "            with h5py.File(old_label_fixed_h5, 'r') as olf:\n",
    "                for prob in oif.keys():\n",
    "                    img = oif[prob][:]\n",
    "                    labs = olf[prob][:]\n",
    "                    if prob in val_probs:\n",
    "                        vif.create_dataset(prob, data = img)\n",
    "                        vlf.create_dataset(prob, data = labs)\n",
    "                    else:\n",
    "                        tif.create_dataset(prob, data = img)\n",
    "                        tlf.create_dataset(prob, data = labs)\n",
    "        \n",
    "\n",
    "with h5py.File(train_img_moving_h5, 'w-') as tim,  h5py.File(val_img_moving_h5, 'w-') as vim:\n",
    "    with h5py.File(train_label_moving_h5, 'w-') as tlm,  h5py.File(val_label_moving_h5, 'w-') as vlm:\n",
    "        with h5py.File(old_img_moving_h5, 'r') as oim:\n",
    "            with h5py.File(old_label_moving_h5, 'r') as olm:\n",
    "                for prob in oim.keys():\n",
    "                    img = oim[prob][:]\n",
    "                    labs = olm[prob][:]\n",
    "                    if prob in val_probs:\n",
    "                        vim.create_dataset(prob, data = img)\n",
    "                        vlm.create_dataset(prob, data = labs)\n",
    "                    else:\n",
    "                        tim.create_dataset(prob, data = img)\n",
    "                        tlm.create_dataset(prob, data = labs)"
   ]
  },
  {
   "cell_type": "markdown",
   "metadata": {},
   "source": [
    "### Create empty ROIs"
   ]
  },
  {
   "cell_type": "code",
   "execution_count": 4,
   "metadata": {},
   "outputs": [],
   "source": [
    "base_dir = \"/home/brian/data4/brian/PBnJ/jelly_processed_data/mixed_lab_padded\"\n",
    "\n",
    "old_img_moving_h5 = f\"{base_dir}/moving_images.h5\"\n",
    "\n",
    "train_roi_moving_h5 = f\"{base_dir}/train/moving_rois.h5\"\n",
    "val_roi_moving_h5 = f\"{base_dir}/val/moving_rois.h5\"\n",
    "train_roi_fixed_h5 = f\"{base_dir}/train/fixed_rois.h5\"\n",
    "val_roi_fixed_h5 = f\"{base_dir}/val/fixed_rois.h5\"\n",
    "\n",
    "\n",
    "with h5py.File(val_roi_fixed_h5, 'w-') as vrf,  h5py.File(val_roi_moving_h5, 'w-') as vrm:\n",
    "# with h5py.File(train_roi_fixed_h5, 'w-') as trf,  h5py.File(train_roi_moving_h5, 'w-') as trm:\n",
    "    with h5py.File(old_img_moving_h5, 'r') as oim:\n",
    "        for prob in oim.keys():\n",
    "            blank = np.zeros_like(oim[prob][:])\n",
    "            vrf.create_dataset(prob, data = blank)\n",
    "            vrm.create_dataset(prob, data = blank)\n",
    "            # trf.create_dataset(prob, data = blank)\n",
    "            # trm.create_dataset(prob, data = blank)"
   ]
  },
  {
   "cell_type": "markdown",
   "metadata": {},
   "source": [
    "## Add Padding"
   ]
  },
  {
   "cell_type": "code",
   "execution_count": 2,
   "metadata": {},
   "outputs": [],
   "source": [
    "in_dir = \"/home/brian/data4/brian/PBnJ/archive_pre_datadump/jelly_processed_data/h5\"\n",
    "out_dir = \"/home/brian/data4/brian/PBnJ/jelly_h5s/double_padded/full-vals-old\"\n",
    "\n",
    "padding = np.array([[0,0],[0,0],[1,1]])\n",
    "\n",
    "with h5py.File(os.path.join(in_dir, \"moving_images.h5\"), 'r') as imv,  h5py.File(os.path.join(in_dir, \"moving_labels.h5\"), 'r') as lmv:\n",
    "    with h5py.File(os.path.join(out_dir, \"moving_images.h5\"), 'w-') as oimv,  h5py.File(os.path.join(out_dir, \"moving_labels.h5\"), 'w-') as olmv:\n",
    "        for prob in imv.keys():\n",
    "            img = imv[prob][:]\n",
    "            img = np.pad(img, padding, \"constant\", constant_values=0)\n",
    "\n",
    "            labs = lmv[prob][:]\n",
    "            neg_ones = labs < 0\n",
    "            # labs = labs + padding[:, 0] \n",
    "            labs[neg_ones] = -1 # Retain -1s\n",
    "\n",
    "            oimv.create_dataset(prob, data = img)\n",
    "            olmv.create_dataset(prob, data = labs)\n",
    "\n",
    "\n",
    "\n",
    "with h5py.File(os.path.join(in_dir, \"fixed_images.h5\"), 'r') as ifx,  h5py.File(os.path.join(in_dir, \"fixed_labels.h5\"), 'r') as lfx:\n",
    "    with h5py.File(os.path.join(out_dir, \"fixed_images.h5\"), 'w-') as oifx,  h5py.File(os.path.join(out_dir, \"fixed_labels.h5\"), 'w-') as olfx:\n",
    "        for prob in ifx.keys():\n",
    "            img = ifx[prob][:]\n",
    "            img = np.pad(img, padding, \"constant\", constant_values=0)\n",
    "\n",
    "            labs = lfx[prob][:]\n",
    "            neg_ones = labs < 0\n",
    "            # labs = labs + padding[:, 0] \n",
    "            labs[neg_ones] = -1 # Retain -1s\n",
    "            \n",
    "            oifx.create_dataset(prob, data = img)\n",
    "            olfx.create_dataset(prob, data = labs)\n"
   ]
  },
  {
   "cell_type": "markdown",
   "metadata": {},
   "source": [
    "# Actual Processing to create new datasets"
   ]
  },
  {
   "cell_type": "code",
   "execution_count": 31,
   "metadata": {},
   "outputs": [
    {
     "ename": "ModuleNotFoundError",
     "evalue": "No module named 'euler_register'",
     "output_type": "error",
     "traceback": [
      "\u001b[0;31m---------------------------------------------------------------------------\u001b[0m",
      "\u001b[0;31mModuleNotFoundError\u001b[0m                       Traceback (most recent call last)",
      "Cell \u001b[0;32mIn[31], line 1\u001b[0m\n\u001b[0;32m----> 1\u001b[0m \u001b[38;5;28;01mfrom\u001b[39;00m\u001b[38;5;250m \u001b[39m\u001b[38;5;21;01meuler_register\u001b[39;00m\u001b[38;5;250m \u001b[39m\u001b[38;5;28;01mimport\u001b[39;00m EulerRegistrationProcessor\n\u001b[1;32m      3\u001b[0m target_image_shape \u001b[38;5;241m=\u001b[39m (\u001b[38;5;241m1080\u001b[39m, \u001b[38;5;241m1080\u001b[39m, \u001b[38;5;241m1\u001b[39m)\n\u001b[1;32m      4\u001b[0m save_directory \u001b[38;5;241m=\u001b[39m \u001b[38;5;124m\"\u001b[39m\u001b[38;5;124m/home/brian/data4/brian/PBnJ/jelly_processed_data\u001b[39m\u001b[38;5;124m\"\u001b[39m\n",
      "\u001b[0;31mModuleNotFoundError\u001b[0m: No module named 'euler_register'"
     ]
    }
   ],
   "source": [
    "from euler_register import EulerRegistrationProcessor\n",
    "\n",
    "target_image_shape = (1080, 1080, 1)\n",
    "save_directory = \"/home/brian/data4/brian/PBnJ/jelly_processed_data\"\n",
    "problem_file = \"/home/brian/notebooks/brian/PBrainAlign_and_Jelly/private_BrainAlignNet/scripts/data_preparation/resources/jelly_registration_problems.json\"\n",
    "\n",
    "processor = EulerRegistrationProcessor(\n",
    "    target_image_shape,\n",
    "    save_directory,\n",
    "    problem_file\n",
    ")\n",
    "processor.process_datasets()"
   ]
  },
  {
   "cell_type": "markdown",
   "metadata": {},
   "source": [
    "Add Padding"
   ]
  },
  {
   "cell_type": "code",
   "execution_count": 9,
   "metadata": {},
   "outputs": [],
   "source": [
    "in_dir = \"/home/brian/data4/brian/PBnJ/jelly_processed_data/mixed_lab_h5\"\n",
    "out_dir = \"/home/brian/data4/brian/PBnJ/jelly_processed_data/mixed_lab_padded\"\n",
    "\n",
    "padding = np.array([[0,0],[0,0],[1,0]])\n",
    "\n",
    "with h5py.File(os.path.join(in_dir, \"moving_images.h5\"), 'r') as imv,  h5py.File(os.path.join(in_dir, \"moving_labels.h5\"), 'r') as lmv:\n",
    "    with h5py.File(os.path.join(out_dir, \"moving_images.h5\"), 'w-') as oimv,  h5py.File(os.path.join(out_dir, \"moving_labels.h5\"), 'w-') as olmv:\n",
    "        for prob in imv.keys():\n",
    "            img = imv[prob][:]\n",
    "            img = np.pad(img, padding, \"constant\", constant_values=0)\n",
    "\n",
    "            labs = lmv[prob][:]\n",
    "            neg_ones = labs < 0\n",
    "            labs = labs + padding[:, 0] \n",
    "            labs[neg_ones] = -1 # Retain -1s\n",
    "\n",
    "            oimv.create_dataset(prob, data = img)\n",
    "            olmv.create_dataset(prob, data = labs)\n",
    "\n",
    "\n",
    "\n",
    "with h5py.File(os.path.join(in_dir, \"fixed_images.h5\"), 'r') as ifx,  h5py.File(os.path.join(in_dir, \"fixed_labels.h5\"), 'r') as lfx:\n",
    "    with h5py.File(os.path.join(out_dir, \"fixed_images.h5\"), 'w-') as oifx,  h5py.File(os.path.join(out_dir, \"fixed_labels.h5\"), 'w-') as olfx:\n",
    "        for prob in ifx.keys():\n",
    "            img = ifx[prob][:]\n",
    "            img = np.pad(img, padding, \"constant\", constant_values=0)\n",
    "\n",
    "            labs = lfx[prob][:]\n",
    "            neg_ones = labs < 0\n",
    "            labs = labs + padding[:, 0] \n",
    "            labs[neg_ones] = -1 # Retain -1s\n",
    "            \n",
    "            oifx.create_dataset(prob, data = img)\n",
    "            olfx.create_dataset(prob, data = labs)\n"
   ]
  },
  {
   "cell_type": "code",
   "execution_count": null,
   "metadata": {},
   "outputs": [],
   "source": []
  },
  {
   "cell_type": "markdown",
   "metadata": {},
   "source": [
    "## Convert vsi files to h5"
   ]
  },
  {
   "cell_type": "code",
   "execution_count": null,
   "metadata": {},
   "outputs": [
    {
     "ename": "ModuleNotFoundError",
     "evalue": "No module named 'bioformats'",
     "output_type": "error",
     "traceback": [
      "\u001b[0;31m---------------------------------------------------------------------------\u001b[0m",
      "\u001b[0;31mModuleNotFoundError\u001b[0m                       Traceback (most recent call last)",
      "Cell \u001b[0;32mIn[1], line 1\u001b[0m\n\u001b[0;32m----> 1\u001b[0m \u001b[38;5;28;01mimport\u001b[39;00m\u001b[38;5;250m \u001b[39m\u001b[38;5;21;01mbioformats\u001b[39;00m\n\u001b[1;32m      2\u001b[0m \u001b[38;5;28;01mimport\u001b[39;00m\u001b[38;5;250m \u001b[39m\u001b[38;5;21;01mjavabridge\u001b[39;00m\n\u001b[1;32m      3\u001b[0m \u001b[38;5;28;01mimport\u001b[39;00m\u001b[38;5;250m \u001b[39m\u001b[38;5;21;01mmatplotlib\u001b[39;00m\u001b[38;5;250m \u001b[39m\u001b[38;5;28;01mas\u001b[39;00m\u001b[38;5;250m \u001b[39m\u001b[38;5;21;01mplt\u001b[39;00m\n",
      "\u001b[0;31mModuleNotFoundError\u001b[0m: No module named 'bioformats'"
     ]
    }
   ],
   "source": [
    "import bioformats\n",
    "import javabridge\n",
    "\n",
    "# Start the Java Virtual Machine (JVM)\n",
    "javabridge.start_vm(class_path=bioformats.JARS)\n",
    "\n",
    "\n",
    "# Open the VSI file using bioformats\n",
    "with bioformats.ImageReader('your_vsi_file.vsi') as reader:\n",
    "    # Read the image data\n",
    "    image_data = reader.read(series=0, index=0)\n",
    "\n",
    "plt.imshow(image_data)\n",
    "\n",
    "# Stop the JVM\n",
    "javabridge.kill_vm()"
   ]
  },
  {
   "cell_type": "code",
   "execution_count": null,
   "metadata": {},
   "outputs": [
    {
     "name": "stdout",
     "output_type": "stream",
     "text": [
      "(512, 512, 3)\n"
     ]
    }
   ],
   "source": [
    "import tifffile\n",
    "import matplotlib.pyplot as plt\n",
    "\n",
    "vsi_file = \"/store1/brian/swiming_videos/Folder_20240911/20240911_Experiment_01.vsi\"\n",
    "vsi_file = \"/store1/brian/swiming_videos/Folder_20240913/20240913_Experiment_01.vsi\"\n",
    "\n",
    "\n",
    "# with tifffile.TiffFile(vsi_file) as tif:\n",
    "#     # VSI files can contain multiple images, so iterate through them.\n",
    "#     for page in tif.pages:\n",
    "#         image_data = page.asarray()\n",
    "\n",
    "var = tifffile.imread(vsi_file)\n",
    "print(var.shape)\n",
    "\n",
    "# plt.imshow(image_data)\n"
   ]
  },
  {
   "cell_type": "code",
   "execution_count": 13,
   "metadata": {},
   "outputs": [
    {
     "data": {
      "text/plain": [
       "<matplotlib.image.AxesImage at 0x7f29e59e7b90>"
      ]
     },
     "execution_count": 13,
     "metadata": {},
     "output_type": "execute_result"
    },
    {
     "data": {
      "image/png": "[encoded data removed]",
      "text/plain": [
       "<Figure size 640x480 with 1 Axes>"
      ]
     },
     "metadata": {},
     "output_type": "display_data"
    }
   ],
   "source": [
    "plt.imshow(var[...,0])"
   ]
  },
  {
   "cell_type": "code",
   "execution_count": null,
   "metadata": {},
   "outputs": [],
   "source": []
  }
 ],
 "metadata": {
  "kernelspec": {
   "display_name": "PB",
   "language": "python",
   "name": "python3"
  },
  "language_info": {
   "codemirror_mode": {
    "name": "ipython",
    "version": 3
   },
   "file_extension": ".py",
   "mimetype": "text/x-python",
   "name": "python",
   "nbconvert_exporter": "python",
   "pygments_lexer": "ipython3",
   "version": "3.11.11"
  }
 },
 "nbformat": 4,
 "nbformat_minor": 2
}
